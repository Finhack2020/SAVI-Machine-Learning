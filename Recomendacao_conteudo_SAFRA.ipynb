{
 "cells": [
  {
   "cell_type": "raw",
   "metadata": {},
   "source": [
    "!pip install mlxtend"
   ]
  },
  {
   "cell_type": "code",
   "execution_count": 1,
   "metadata": {
    "id": "0Hp78QPTXPxr"
   },
   "outputs": [],
   "source": [
    "import json\n",
    "import pandas as pd\n",
    "from flask import Flask\n",
    "from mlxtend.frequent_patterns import apriori, association_rules\n",
    "from mlxtend.preprocessing import TransactionEncoder"
   ]
  },
  {
   "cell_type": "code",
   "execution_count": 2,
   "metadata": {
    "id": "OeJG98-KBwr0"
   },
   "outputs": [],
   "source": [
    "conteudos = pd.read_excel('conteudos.xlsx', sheet_name='conteudos')\n",
    "dataset = pd.read_excel('conteudos.xlsx', sheet_name='consumidos')\n",
    "investidos = pd.read_excel('conteudos.xlsx', sheet_name='investidos')"
   ]
  },
  {
   "cell_type": "code",
   "execution_count": 3,
   "metadata": {
    "id": "Xtc5M_5rqUgM"
   },
   "outputs": [],
   "source": [
    "t = dataset.T.drop(['usuario', 'perfil'], axis=0)\n",
    "df = []\n",
    "for coluna in t:\n",
    "    lista = []\n",
    "    for i in t[coluna]:\n",
    "        if type(i) == str:\n",
    "            lista.append(i)\n",
    "    df.append(lista)\n",
    "\n",
    "te = TransactionEncoder()\n",
    "te_ary = te.fit(df).transform(df)\n",
    "transf = pd.DataFrame(te_ary, columns=te.columns_)"
   ]
  },
  {
   "cell_type": "code",
   "execution_count": 4,
   "metadata": {
    "id": "TmkjlurD8sMT"
   },
   "outputs": [],
   "source": [
    "frequent_itemsets = apriori(transf, min_support=0.3, use_colnames=True)\n",
    "frequent_itemsets['length'] = frequent_itemsets['itemsets'].apply(lambda x: len(x))\n",
    "itens_associados = association_rules(frequent_itemsets, metric=\"confidence\", min_threshold=0.5)"
   ]
  },
  {
   "cell_type": "code",
   "execution_count": 5,
   "metadata": {
    "id": "7iGE3WSgVBkZ"
   },
   "outputs": [],
   "source": [
    "conteudo = 'como-investir-no-tesouro-direto-conheca-seus-tipos-e-as-diferencas-entre-cada-um'"
   ]
  },
  {
   "cell_type": "code",
   "execution_count": 6,
   "metadata": {
    "colab": {
     "base_uri": "https://localhost:8080/",
     "height": 69
    },
    "id": "EaSpuaG5I67i",
    "outputId": "114a3364-9244-4312-e73c-dd45c73684c0"
   },
   "outputs": [
    {
     "data": {
      "text/plain": [
       "'{\"como-investir-no-tesouro-direto-conheca-seus-tipos-e-as-diferencas-entre-cada-um\": \"recomendar({\\'como-e-uma-reuniao-do-copom-e-qual-a-importancia-da-taxa-selic\\'})\"}'"
      ]
     },
     "execution_count": 6,
     "metadata": {},
     "output_type": "execute_result"
    }
   ],
   "source": [
    "def recomendacao(conteudo):\n",
    "    for i in range(len(itens_associados)):\n",
    "        if conteudo in itens_associados['antecedents'].loc[i]:\n",
    "            recomendar = str(itens_associados['consequents'].loc[i])\n",
    "            recomendar = recomendar.replace('frozenset', 'recomendar')\n",
    "            retorno = {conteudo: recomendar}\n",
    "            break\n",
    "    return json.dumps(retorno)\n",
    "\n",
    "recomendacao(conteudo)"
   ]
  },
  {
   "cell_type": "raw",
   "metadata": {
    "colab": {
     "base_uri": "https://localhost:8080/"
    },
    "id": "st0cyOmt7fgB",
    "outputId": "03ed9af0-4525-456e-aded-c1b10c1825ae"
   },
   "source": [
    "app = Flask(__name__)\n",
    "@app.route('/recomendacao_conteudos')\n",
    "\n",
    "def recomendacao(conteudo):\n",
    "      for i in range(len(itens_associados)):\n",
    "        if conteudo in itens_associados['antecedents'].loc[i]:\n",
    "            recomendar = str(itens_associados['consequents'].loc[i])   \n",
    "            recomendar = recomendar.replace('frozenset({', '').replace('})', '')\n",
    "            retorno = {conteudo: recomendar}\n",
    "            break\n",
    "            return json.dumps(retorno)\n",
    "\n",
    "recomendacao(conteudo)\n",
    "\n",
    "app.run()"
   ]
  },
  {
   "cell_type": "code",
   "execution_count": 10,
   "metadata": {},
   "outputs": [
    {
     "data": {
      "text/plain": [
       "'renda_fixa'"
      ]
     },
     "execution_count": 10,
     "metadata": {},
     "output_type": "execute_result"
    }
   ],
   "source": [
    "def recomendar_investimento():\n",
    "    for i in range(len(investidos)):\n",
    "        if (investidos['percentil_recomendado'].loc[i] - investidos['percentil_investido'].loc[i]) > 1:\n",
    "            #cont = recomendacao(dataset['conteudo1'].loc[i])\n",
    "            investimento_recomendar = investidos['investimento'].loc[i]\n",
    "        #return json.dumps({investimento_recomendar})\n",
    "        return investimento_recomendar\n",
    "recomendar_investimento()  "
   ]
  },
  {
   "cell_type": "code",
   "execution_count": null,
   "metadata": {},
   "outputs": [],
   "source": []
  }
 ],
 "metadata": {
  "colab": {
   "name": "Recomendacao_conteudo_SAFRA.ipynb",
   "provenance": []
  },
  "kernelspec": {
   "display_name": "Python 3",
   "language": "python",
   "name": "python3"
  },
  "language_info": {
   "codemirror_mode": {
    "name": "ipython",
    "version": 3
   },
   "file_extension": ".py",
   "mimetype": "text/x-python",
   "name": "python",
   "nbconvert_exporter": "python",
   "pygments_lexer": "ipython3",
   "version": "3.7.1"
  }
 },
 "nbformat": 4,
 "nbformat_minor": 4
}
